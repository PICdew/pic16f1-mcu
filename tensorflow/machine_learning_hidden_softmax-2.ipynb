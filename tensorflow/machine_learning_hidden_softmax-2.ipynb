{
 "cells": [
  {
   "cell_type": "markdown",
   "metadata": {},
   "source": [
    "# Machine learning with TensorFlow: hidden and softmax\n",
    "\n",
    "Date: August 21-23, 2018\n",
    "\n",
    "Neural network: hidden and softmax\n",
    "\n",
    "Classification of human body motion:\n",
    "- walking\n",
    "- sitting down\n",
    "- turning right while walking\n",
    "- turning left while walking"
   ]
  },
  {
   "cell_type": "code",
   "execution_count": 669,
   "metadata": {},
   "outputs": [],
   "source": [
    "%matplotlib inline\n",
    "\n",
    "import matplotlib\n",
    "import matplotlib.pyplot as plt\n",
    "import numpy as np\n",
    "import pandas as pd\n",
    "import scipy.signal as sg\n",
    "import serial\n",
    "import time\n",
    "import random"
   ]
  },
  {
   "cell_type": "markdown",
   "metadata": {},
   "source": [
    "## Preparing data set for training CNN"
   ]
  },
  {
   "cell_type": "code",
   "execution_count": 670,
   "metadata": {},
   "outputs": [],
   "source": [
    "SAMPLE_NUMS = 260  # per sec\n",
    "SAMPLING_RATE = 80.0  # Hz\n",
    "GYRO_RESOLUTION = 250.0 / 32768.0\n",
    "ACCEL_RESOLUTION = 2.0 / 32768.0\n",
    "\n",
    "TRAINING_SET = [['./20180821_walking_straight.csv', 0],\n",
    "               ['./20180821_sitting.csv', 1],\n",
    "               ['./20180821_turning_left.csv', 2],\n",
    "               ['./20180821_turning_right.csv', 3],                \n",
    "               ['./20180823_walking_straight.csv', 0],\n",
    "               ['./20180823_sitting.csv', 1],\n",
    "               ['./20180823_turning_left.csv', 2],\n",
    "               ['./20180823_turning_right.csv', 3]]\n",
    "\n",
    "TEST_SET = [['./20180822_walking_straight.csv', 0],\n",
    "            ['./20180822_sitting.csv', 1],\n",
    "            ['./20180822_turning_left.csv', 2],\n",
    "            ['./20180822_turning_right.csv', 3]]\n",
    "\n",
    "TIME_INTERVAL = 260.0 / SAMPLING_RATE  # sec\n",
    "\n",
    "MEASUREMENTS = 8\n",
    "RECORDS = 260"
   ]
  },
  {
   "cell_type": "code",
   "execution_count": 671,
   "metadata": {},
   "outputs": [],
   "source": [
    "gres = lambda v: v * GYRO_RESOLUTION\n",
    "ares = lambda v: v * ACCEL_RESOLUTION\n",
    "to_time = lambda v: v / SAMPLING_RATE\n",
    "\n",
    "def conv(df, lpf=False):\n",
    "    df[['gx', 'gy', 'gz']] = df[['gx', 'gy', 'gz']].apply(gres)\n",
    "    df[['ax', 'ay', 'az']] = df[['ax', 'ay', 'az']].apply(ares)\n",
    "    if lpf:\n",
    "        CUTOFF = 10.0\n",
    "        b, a = sg.butter(5, CUTOFF/SAMPLING_RATE, btype='low')\n",
    "        df[['ax', 'ay', 'az']] = df[['ax', 'ay', 'az']].apply(lambda row: sg.lfilter(b, a, row))\n",
    "        CUTOFF = 10.0\n",
    "        b, a = sg.butter(5, CUTOFF/SAMPLING_RATE, btype='low')\n",
    "        df[['gx', 'gy', 'gz']] = df[['gx', 'gy', 'gz']].apply(lambda row: sg.lfilter(b, a, row))\n",
    "    df[['cnt']] = df[['cnt']].apply(to_time)\n",
    "    df.set_index('cnt', drop=True, inplace=True)\n",
    "    # measurements = df.tail(1).iloc[0,0] + 1\n",
    "    # return measurements"
   ]
  },
  {
   "cell_type": "code",
   "execution_count": 672,
   "metadata": {
    "scrolled": false
   },
   "outputs": [],
   "source": [
    "training_set = []\n",
    "test_set = []\n",
    "\n",
    "def label(l):\n",
    "    ll = [0,0,0,0]\n",
    "    ll[l] = 1\n",
    "    return ll\n",
    "\n",
    "for file, l in TRAINING_SET:\n",
    "    df = pd.read_csv(file, dtype=np.int16)\n",
    "    conv(df, lpf=True)\n",
    "    for i in range(MEASUREMENTS):\n",
    "        training_set.append([df[df['id']==i], label(l)])\n",
    "        \n",
    "for file, l in TEST_SET:\n",
    "    df = pd.read_csv(file, dtype=np.int16)\n",
    "    conv(df, lpf=True)\n",
    "    for i in range(MEASUREMENTS):\n",
    "        test_set.append([df[df['id']==i], label(l)])\n",
    "    \n",
    "random.shuffle(training_set)\n",
    "random.shuffle(test_set)"
   ]
  },
  {
   "cell_type": "code",
   "execution_count": 673,
   "metadata": {
    "scrolled": false
   },
   "outputs": [],
   "source": [
    "# use accel x axis and gyro z axis values for classification of human body motion\n",
    "train_x, train_t = [], []\n",
    "test_x, test_t = [], []\n",
    "for df, label in training_set:\n",
    "    values = np.concatenate((df['ax'].values, df['ay'].values, df['az'].values,\n",
    "                             df['gx'].values, df['gy'].values, df['gz'].values),\n",
    "                            axis=None)\n",
    "    train_x.append(values)\n",
    "    train_t.append(label)\n",
    "for df, label in test_set:\n",
    "    values = np.concatenate((df['ax'].values, df['ay'].values, df['az'].values,\n",
    "                             df['gx'].values, df['gy'].values, df['gz'].values),\n",
    "                            axis=None)\n",
    "    test_x.append(values)\n",
    "    test_t.append(label)"
   ]
  },
  {
   "cell_type": "markdown",
   "metadata": {},
   "source": [
    "## TensorFlow"
   ]
  },
  {
   "cell_type": "code",
   "execution_count": 674,
   "metadata": {},
   "outputs": [],
   "source": [
    "import tensorflow as tf\n",
    "tf.logging.set_verbosity(tf.logging.ERROR)\n",
    "\n",
    "import numpy as np\n",
    "import matplotlib.pyplot as plt\n",
    "from tensorflow.examples.tutorials.mnist import input_data\n",
    "\n",
    "np.random.seed(20180823)\n",
    "tf.set_random_seed(20180823)"
   ]
  },
  {
   "cell_type": "code",
   "execution_count": 675,
   "metadata": {},
   "outputs": [],
   "source": [
    "num_samples = SAMPLE_NUMS * 6\n",
    "num_units = 64\n",
    "num_classes = 4\n",
    "\n",
    "x = tf.placeholder(tf.float32, [None, num_samples])\n",
    "\n",
    "w1 = tf.Variable(tf.truncated_normal([num_samples, num_units]))\n",
    "b1 = tf.Variable(tf.zeros([num_units]))\n",
    "hidden1 = tf.nn.sigmoid(tf.matmul(x, w1) + b1)\n",
    "\n",
    "w0 = tf.Variable(tf.zeros([num_units, num_classes]))\n",
    "b0 = tf.Variable(tf.zeros([num_classes]))\n",
    "p = tf.nn.softmax(tf.matmul(hidden1, w0) + b0)"
   ]
  },
  {
   "cell_type": "code",
   "execution_count": 676,
   "metadata": {},
   "outputs": [],
   "source": [
    "t = tf.placeholder(tf.float32, [None, num_classify])\n",
    "loss = -tf.reduce_sum(t * tf.log(p))\n",
    "train_step = tf.train.AdamOptimizer().minimize(loss)\n",
    "correct_prediction = tf.equal(tf.argmax(p, 1), tf.argmax(t, 1))\n",
    "accuracy = tf.reduce_mean(tf.cast(correct_prediction, tf.float32))"
   ]
  },
  {
   "cell_type": "code",
   "execution_count": 677,
   "metadata": {},
   "outputs": [],
   "source": [
    "sess = tf.Session()\n",
    "sess.run(tf.global_variables_initializer())"
   ]
  },
  {
   "cell_type": "code",
   "execution_count": 678,
   "metadata": {},
   "outputs": [
    {
     "name": "stdout",
     "output_type": "stream",
     "text": [
      "Step: 100, Loss: 18.7894287109375, Accuracy: 0.875\n",
      "Step: 200, Loss: 12.07949447631836, Accuracy: 0.9375\n",
      "Step: 300, Loss: 9.543143272399902, Accuracy: 0.96875\n",
      "Step: 400, Loss: 8.124893188476562, Accuracy: 0.96875\n",
      "Step: 500, Loss: 7.3722758293151855, Accuracy: 0.9375\n",
      "Step: 600, Loss: 7.091572284698486, Accuracy: 0.90625\n",
      "Step: 700, Loss: 6.780047416687012, Accuracy: 0.90625\n",
      "Step: 800, Loss: 6.571867942810059, Accuracy: 0.90625\n",
      "Step: 900, Loss: 6.410127639770508, Accuracy: 0.90625\n",
      "Step: 1000, Loss: 6.289735317230225, Accuracy: 0.90625\n",
      "Step: 1100, Loss: 6.199483871459961, Accuracy: 0.90625\n",
      "Step: 1200, Loss: 6.131598949432373, Accuracy: 0.90625\n",
      "Step: 1300, Loss: 6.065449237823486, Accuracy: 0.90625\n",
      "Step: 1400, Loss: 6.023398399353027, Accuracy: 0.90625\n",
      "Step: 1500, Loss: 5.97792387008667, Accuracy: 0.90625\n",
      "Step: 1600, Loss: 7.009959697723389, Accuracy: 0.90625\n",
      "Step: 1700, Loss: 7.008603096008301, Accuracy: 0.90625\n",
      "Step: 1800, Loss: 7.02732515335083, Accuracy: 0.90625\n",
      "Step: 1900, Loss: 7.067910194396973, Accuracy: 0.90625\n",
      "Step: 2000, Loss: 7.113079071044922, Accuracy: 0.90625\n"
     ]
    }
   ],
   "source": [
    "i = 0\n",
    "for _ in range(2000):\n",
    "    i += 1\n",
    "    sess.run(train_step, feed_dict={x:train_x, t:train_t})\n",
    "    if i % 100 == 0:\n",
    "        loss_val, acc_val = sess.run([loss, accuracy], feed_dict={x:test_x, t:test_t})\n",
    "        print('Step: {}, Loss: {}, Accuracy: {}'.format(i, loss_val, acc_val))"
   ]
  },
  {
   "cell_type": "code",
   "execution_count": 679,
   "metadata": {},
   "outputs": [
    {
     "data": {
      "text/plain": [
       "array([[ 7, 90,  0,  1],\n",
       "       [66, 27,  5,  0],\n",
       "       [ 5,  0,  0, 94],\n",
       "       [ 0,  0, 99,  0],\n",
       "       [ 1,  0,  0, 98],\n",
       "       [92,  0,  7,  0],\n",
       "       [ 3,  0,  0, 96],\n",
       "       [ 0,  0, 99,  0],\n",
       "       [ 0, 99,  0,  0],\n",
       "       [ 0,  0, 99,  0]])"
      ]
     },
     "execution_count": 679,
     "metadata": {},
     "output_type": "execute_result"
    }
   ],
   "source": [
    "p_test = sess.run(p, feed_dict={x:test_x})\n",
    "(p_test*100).astype(int)[:10]"
   ]
  },
  {
   "cell_type": "code",
   "execution_count": 680,
   "metadata": {},
   "outputs": [
    {
     "data": {
      "text/plain": [
       "[[0, 1, 0, 0],\n",
       " [0, 1, 0, 0],\n",
       " [0, 0, 0, 1],\n",
       " [0, 0, 1, 0],\n",
       " [0, 0, 0, 1],\n",
       " [1, 0, 0, 0],\n",
       " [0, 0, 0, 1],\n",
       " [0, 0, 1, 0],\n",
       " [0, 1, 0, 0],\n",
       " [0, 0, 1, 0]]"
      ]
     },
     "execution_count": 680,
     "metadata": {},
     "output_type": "execute_result"
    }
   ],
   "source": [
    "test_t[:10]"
   ]
  },
  {
   "cell_type": "code",
   "execution_count": 681,
   "metadata": {},
   "outputs": [],
   "source": [
    "sess.close()"
   ]
  },
  {
   "cell_type": "code",
   "execution_count": null,
   "metadata": {},
   "outputs": [],
   "source": []
  }
 ],
 "metadata": {
  "kernelspec": {
   "display_name": "Python 3",
   "language": "python",
   "name": "python3"
  },
  "language_info": {
   "codemirror_mode": {
    "name": "ipython",
    "version": 3
   },
   "file_extension": ".py",
   "mimetype": "text/x-python",
   "name": "python",
   "nbconvert_exporter": "python",
   "pygments_lexer": "ipython3",
   "version": "3.6.4"
  }
 },
 "nbformat": 4,
 "nbformat_minor": 2
}
