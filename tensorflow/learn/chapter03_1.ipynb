{
 "cells": [
  {
   "cell_type": "code",
   "execution_count": 2,
   "metadata": {},
   "outputs": [],
   "source": [
    "import tensorflow as tf\n",
    "import numpy as np\n",
    "import matplotlib.pyplot as plt\n",
    "from numpy.random import multivariate_normal, permutation\n",
    "import pandas as pd\n",
    "from pandas import DataFrame, Series"
   ]
  },
  {
   "cell_type": "code",
   "execution_count": 3,
   "metadata": {},
   "outputs": [],
   "source": [
    "def generate_datablock(n, mu, var, t):\n",
    "    data = multivariate_normal(mu, np.eye(2)*var, n)\n",
    "    df = DataFrame(data, columns=['x1', 'x2'])\n",
    "    df['t'] = t\n",
    "    return df"
   ]
  },
  {
   "cell_type": "code",
   "execution_count": 4,
   "metadata": {},
   "outputs": [],
   "source": [
    "np.random.seed(20180803)\n",
    "tf.set_random_seed(20180803)\n",
    "\n",
    "df0 = generate_datablock(15, [7,7], 22, 0)\n",
    "df1 = generate_datablock(15, [22,7], 22, 0)\n",
    "df2 = generate_datablock(10, [7,22], 22, 0)\n",
    "df3 = generate_datablock(25, [20,20], 22, 1)"
   ]
  },
  {
   "cell_type": "code",
   "execution_count": 5,
   "metadata": {},
   "outputs": [
    {
     "data": {
      "text/plain": [
       "<matplotlib.axes._subplots.AxesSubplot at 0x164c2e09278>"
      ]
     },
     "execution_count": 5,
     "metadata": {},
     "output_type": "execute_result"
    },
    {
     "data": {
      "image/png": "[encoded data removed]",
      "text/plain": [
       "<matplotlib.figure.Figure at 0x164bf247160>"
      ]
     },
     "metadata": {},
     "output_type": "display_data"
    }
   ],
   "source": [
    "ax = df0.plot.scatter(x='x1',y='x2')\n",
    "df1.plot.scatter(x='x1',y='x2', marker='*', c='b', ax=ax)\n",
    "df2.plot.scatter(x='x1',y='x2', marker='+', c='g', ax=ax)\n",
    "df3.plot.scatter(x='x1',y='x2', marker='x', c='r', ax=ax)"
   ]
  },
  {
   "cell_type": "code",
   "execution_count": 6,
   "metadata": {},
   "outputs": [
    {
     "data": {
      "text/plain": [
       "<matplotlib.axes._subplots.AxesSubplot at 0x164c2d2f9e8>"
      ]
     },
     "execution_count": 6,
     "metadata": {},
     "output_type": "execute_result"
    },
    {
     "data": {
      "image/png": "[encoded data removed]",
      "text/plain": [
       "<matplotlib.figure.Figure at 0x164c2d44160>"
      ]
     },
     "metadata": {},
     "output_type": "display_data"
    }
   ],
   "source": [
    "df = pd.concat([df0, df1, df2, df3], ignore_index=True)\n",
    "train_set = df.reindex(permutation(df.index)).reset_index(drop=True)\n",
    "train_set.plot.scatter(x='x1', y='x2')"
   ]
  },
  {
   "cell_type": "code",
   "execution_count": 7,
   "metadata": {},
   "outputs": [],
   "source": [
    "train_x = train_set[['x1', 'x2']].as_matrix()\n",
    "train_t = train_set['t'].as_matrix().reshape([len(train_set), 1])"
   ]
  },
  {
   "cell_type": "code",
   "execution_count": 8,
   "metadata": {},
   "outputs": [
    {
     "data": {
      "text/plain": [
       "14.409875644042515"
      ]
     },
     "execution_count": 8,
     "metadata": {},
     "output_type": "execute_result"
    }
   ],
   "source": [
    "num_units = 4\n",
    "mult = train_x.flatten().mean()\n",
    "mult"
   ]
  },
  {
   "cell_type": "code",
   "execution_count": 9,
   "metadata": {},
   "outputs": [],
   "source": [
    "x = tf.placeholder(tf.float32, [None, 2])\n",
    "\n",
    "w1 = tf.Variable(tf.truncated_normal([2, num_units]))\n",
    "b1 = tf.Variable(tf.zeros([num_units]))\n",
    "hidden1 = tf.nn.tanh(tf.matmul(x, w1) + b1*mult)\n",
    "\n",
    "w0 = tf.Variable(tf.zeros([num_units, 1]))\n",
    "b0 = tf.Variable(tf.zeros([1]))\n",
    "p = tf.nn.sigmoid(tf.matmul(hidden1, w0) + b0*mult)"
   ]
  },
  {
   "cell_type": "code",
   "execution_count": 10,
   "metadata": {},
   "outputs": [],
   "source": [
    "t = tf.placeholder(tf.float32, [None, 1])\n",
    "loss = -tf.reduce_sum(t*tf.log(p) + (1-t)*tf.log(1-p))\n",
    "train_step = tf.train.GradientDescentOptimizer(0.0005).minimize(loss)\n",
    "correct_prediction = tf.equal(tf.sign(p-0.5), tf.sign(t-0.5))\n",
    "accuracy = tf.reduce_mean(tf.cast(correct_prediction, tf.float32))"
   ]
  },
  {
   "cell_type": "code",
   "execution_count": 11,
   "metadata": {},
   "outputs": [],
   "source": [
    "sess = tf.InteractiveSession()\n",
    "sess.run(tf.global_variables_initializer())"
   ]
  },
  {
   "cell_type": "code",
   "execution_count": 12,
   "metadata": {},
   "outputs": [
    {
     "name": "stdout",
     "output_type": "stream",
     "text": [
      "Step: 100, Loss: 33.651885986328125, Accuracy: 0.8153846263885498\n",
      "Step: 200, Loss: 26.223979949951172, Accuracy: 0.8615384697914124\n",
      "Step: 300, Loss: 23.28469467163086, Accuracy: 0.8769230842590332\n",
      "Step: 400, Loss: 22.064462661743164, Accuracy: 0.8461538553237915\n",
      "Step: 500, Loss: 21.461030960083008, Accuracy: 0.8461538553237915\n",
      "Step: 600, Loss: 21.11316680908203, Accuracy: 0.8615384697914124\n",
      "Step: 700, Loss: 20.88832664489746, Accuracy: 0.8615384697914124\n",
      "Step: 800, Loss: 20.730314254760742, Accuracy: 0.8615384697914124\n",
      "Step: 900, Loss: 20.61204719543457, Accuracy: 0.8615384697914124\n",
      "Step: 1000, Loss: 20.51889991760254, Accuracy: 0.8615384697914124\n",
      "Step: 1100, Loss: 20.441848754882812, Accuracy: 0.8769230842590332\n",
      "Step: 1200, Loss: 20.373395919799805, Accuracy: 0.8769230842590332\n",
      "Step: 1300, Loss: 19.155866622924805, Accuracy: 0.8153846263885498\n",
      "Step: 1400, Loss: 18.539857864379883, Accuracy: 0.8153846263885498\n",
      "Step: 1500, Loss: 18.059160232543945, Accuracy: 0.8153846263885498\n",
      "Step: 1600, Loss: 17.119234085083008, Accuracy: 0.8153846263885498\n",
      "Step: 1700, Loss: 16.515621185302734, Accuracy: 0.8153846263885498\n",
      "Step: 1800, Loss: 15.95967960357666, Accuracy: 0.8153846263885498\n",
      "Step: 1900, Loss: 15.603130340576172, Accuracy: 0.8307692408561707\n",
      "Step: 2000, Loss: 15.332159042358398, Accuracy: 0.8307692408561707\n",
      "Step: 2100, Loss: 15.107277870178223, Accuracy: 0.8461538553237915\n",
      "Step: 2200, Loss: 14.914935111999512, Accuracy: 0.8461538553237915\n",
      "Step: 2300, Loss: 14.747199058532715, Accuracy: 0.8615384697914124\n",
      "Step: 2400, Loss: 14.598546981811523, Accuracy: 0.8615384697914124\n",
      "Step: 2500, Loss: 14.464314460754395, Accuracy: 0.8615384697914124\n",
      "Step: 2600, Loss: 14.336044311523438, Accuracy: 0.8615384697914124\n",
      "Step: 2700, Loss: 14.198263168334961, Accuracy: 0.8769230842590332\n",
      "Step: 2800, Loss: 14.078964233398438, Accuracy: 0.8769230842590332\n",
      "Step: 2900, Loss: 13.976571083068848, Accuracy: 0.8769230842590332\n",
      "Step: 3000, Loss: 13.876527786254883, Accuracy: 0.8769230842590332\n",
      "Step: 3100, Loss: 13.789103507995605, Accuracy: 0.8769230842590332\n",
      "Step: 3200, Loss: 13.719602584838867, Accuracy: 0.8769230842590332\n",
      "Step: 3300, Loss: 13.656463623046875, Accuracy: 0.8769230842590332\n",
      "Step: 3400, Loss: 13.59788703918457, Accuracy: 0.8769230842590332\n",
      "Step: 3500, Loss: 13.54323673248291, Accuracy: 0.8769230842590332\n",
      "Step: 3600, Loss: 13.492044448852539, Accuracy: 0.8769230842590332\n",
      "Step: 3700, Loss: 13.443927764892578, Accuracy: 0.8769230842590332\n",
      "Step: 3800, Loss: 13.398566246032715, Accuracy: 0.8769230842590332\n",
      "Step: 3900, Loss: 13.355691909790039, Accuracy: 0.8769230842590332\n",
      "Step: 4000, Loss: 13.315065383911133, Accuracy: 0.8769230842590332\n"
     ]
    }
   ],
   "source": [
    "i = 0\n",
    "for _ in range(4000):\n",
    "    i += 1\n",
    "    sess.run(train_step, feed_dict={x:train_x, t:train_t})\n",
    "    if i % 100 == 0:\n",
    "        loss_val, acc_val = sess.run(\n",
    "        [loss, accuracy], feed_dict={x:train_x, t:train_t})\n",
    "        print('Step: {}, Loss: {}, Accuracy: {}'.format(i, loss_val, acc_val))"
   ]
  },
  {
   "cell_type": "code",
   "execution_count": 23,
   "metadata": {},
   "outputs": [
    {
     "data": {
      "text/plain": [
       "<matplotlib.image.AxesImage at 0x164c9f70f60>"
      ]
     },
     "execution_count": 23,
     "metadata": {},
     "output_type": "execute_result"
    },
    {
     "data": {
      "image/png": "[encoded data removed]",
      "text/plain": [
       "<matplotlib.figure.Figure at 0x164c9eff4e0>"
      ]
     },
     "metadata": {},
     "output_type": "display_data"
    }
   ],
   "source": [
    "train_set1 = train_set[train_set['t']==1]\n",
    "train_set2 = train_set[train_set['t']==0]\n",
    "\n",
    "fig = plt.figure(figsize=(6,6))\n",
    "subplot = fig.add_subplot(1,1,1)\n",
    "subplot.set_ylim([0,30])\n",
    "subplot.set_xlim([0,30])\n",
    "subplot.scatter(train_set1.x1, train_set1.x2, marker='x', c='r')\n",
    "subplot.scatter(train_set2.x1, train_set2.x2, marker='o')\n",
    "\n",
    "locations = []\n",
    "for x2 in np.linspace(0,30,100):\n",
    "    for x1 in np.linspace(0,30,100):\n",
    "        locations.append((x1, x2))\n",
    "p_vals = sess.run(p, feed_dict={x:locations})\n",
    "p_vals = p_vals.reshape((100,100))\n",
    "subplot.imshow(p_vals, origin='lower', extent=(0,30,0,30), cmap=plt.cm.gray_r, alpha=0.4)"
   ]
  },
  {
   "cell_type": "code",
   "execution_count": null,
   "metadata": {},
   "outputs": [],
   "source": []
  }
 ],
 "metadata": {
  "kernelspec": {
   "display_name": "Python 3",
   "language": "python",
   "name": "python3"
  },
  "language_info": {
   "codemirror_mode": {
    "name": "ipython",
    "version": 3
   },
   "file_extension": ".py",
   "mimetype": "text/x-python",
   "name": "python",
   "nbconvert_exporter": "python",
   "pygments_lexer": "ipython3",
   "version": "3.6.4"
  }
 },
 "nbformat": 4,
 "nbformat_minor": 2
}
