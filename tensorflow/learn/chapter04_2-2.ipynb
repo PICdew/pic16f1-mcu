{
 "cells": [
  {
   "cell_type": "markdown",
   "metadata": {},
   "source": [
    "Reference: https://github.com/enakai00/jupyter_tfbook"
   ]
  },
  {
   "cell_type": "code",
   "execution_count": 180,
   "metadata": {},
   "outputs": [],
   "source": [
    "import tensorflow as tf\n",
    "import numpy as np\n",
    "import matplotlib.pyplot as plt\n",
    "import pickle\n",
    "\n",
    "tf.logging.set_verbosity(tf.logging.ERROR)\n",
    "\n",
    "np.random.seed(20180815)\n",
    "tf.set_random_seed(20180815)"
   ]
  },
  {
   "cell_type": "code",
   "execution_count": 181,
   "metadata": {},
   "outputs": [],
   "source": [
    "with open('./data/ORENIST.data', 'rb') as file:\n",
    "    images, labels = pickle.load(file, encoding='bytes')"
   ]
  },
  {
   "cell_type": "code",
   "execution_count": 182,
   "metadata": {},
   "outputs": [],
   "source": [
    "x = tf.placeholder(tf.float32, [None, 784])\n",
    "x_image = tf.reshape(x, [-1, 28, 28, 1])\n",
    "\n",
    "W_conv = tf.Variable(tf.truncated_normal([5,5,1,2], stddev=0.1))\n",
    "h_conv = tf.abs(tf.nn.conv2d(x_image, W_conv, strides=[1,1,1,1], padding='SAME'))\n",
    "h_conv_cutoff = tf.nn.relu(h_conv - 0.2)\n",
    "h_pool = tf.nn.max_pool(h_conv_cutoff, ksize=[1,2,2,1], strides=[1,2,2,1], padding='SAME')"
   ]
  },
  {
   "cell_type": "code",
   "execution_count": 183,
   "metadata": {},
   "outputs": [],
   "source": [
    "h_pool_flat = tf.reshape(h_pool, [-1, 392])\n",
    "\n",
    "num_units1 = 392\n",
    "num_units2 = 2\n",
    "\n",
    "w2 = tf.Variable(tf.truncated_normal([num_units1, num_units2]))\n",
    "b2 = tf.Variable(tf.zeros([num_units2]))\n",
    "hidden2 = tf.nn.tanh(tf.matmul(h_pool_flat, w2) + b2)\n",
    "\n",
    "w0 = tf.Variable(tf.zeros([num_units2, 3]))\n",
    "b0 = tf.Variable(tf.zeros([3]))\n",
    "p = tf.nn.softmax(tf.matmul(hidden2, w0) + b0)"
   ]
  },
  {
   "cell_type": "code",
   "execution_count": 184,
   "metadata": {},
   "outputs": [],
   "source": [
    "t = tf.placeholder(tf.float32, [None, 3])\n",
    "loss = -tf.reduce_sum(t * tf.log(p))\n",
    "train_step = tf.train.AdamOptimizer().minimize(loss)\n",
    "correct_prediction = tf.equal(tf.argmax(p, 1), tf.argmax(t, 1))\n",
    "accuracy = tf.reduce_mean(tf.cast(correct_prediction, tf.float32))"
   ]
  },
  {
   "cell_type": "code",
   "execution_count": 185,
   "metadata": {},
   "outputs": [],
   "source": [
    "sess = tf.InteractiveSession()\n",
    "sess.run(tf.global_variables_initializer())"
   ]
  },
  {
   "cell_type": "code",
   "execution_count": 186,
   "metadata": {},
   "outputs": [
    {
     "name": "stdout",
     "output_type": "stream",
     "text": [
      "Step: 10, Loss: 98.28689575195312, Accuracy: 0.7333333492279053\n",
      "Step: 20, Loss: 97.38819885253906, Accuracy: 0.7666666507720947\n",
      "Step: 30, Loss: 96.02784729003906, Accuracy: 0.8111110925674438\n",
      "Step: 40, Loss: 94.21533203125, Accuracy: 0.855555534362793\n",
      "Step: 50, Loss: 92.29862976074219, Accuracy: 0.8666666746139526\n",
      "Step: 60, Loss: 90.33267974853516, Accuracy: 0.8666666746139526\n",
      "Step: 70, Loss: 88.40650939941406, Accuracy: 0.9222221970558167\n",
      "Step: 80, Loss: 86.39253234863281, Accuracy: 0.9444444179534912\n",
      "Step: 90, Loss: 84.34394836425781, Accuracy: 0.9666666388511658\n",
      "Step: 100, Loss: 82.4878158569336, Accuracy: 0.9777777791023254\n",
      "Step: 110, Loss: 80.68875885009766, Accuracy: 0.9888888597488403\n",
      "Step: 120, Loss: 78.81385803222656, Accuracy: 1.0\n",
      "Step: 130, Loss: 77.14630889892578, Accuracy: 1.0\n",
      "Step: 140, Loss: 75.61478424072266, Accuracy: 1.0\n",
      "Step: 150, Loss: 74.154052734375, Accuracy: 1.0\n",
      "Step: 160, Loss: 72.7510757446289, Accuracy: 1.0\n",
      "Step: 170, Loss: 71.39751434326172, Accuracy: 1.0\n",
      "Step: 180, Loss: 70.08800506591797, Accuracy: 1.0\n",
      "Step: 190, Loss: 68.81876373291016, Accuracy: 1.0\n",
      "Step: 200, Loss: 67.58683013916016, Accuracy: 1.0\n"
     ]
    }
   ],
   "source": [
    "i = 0\n",
    "for _ in range(200):\n",
    "    i += 1\n",
    "    sess.run(train_step, feed_dict={x:images, t:labels})\n",
    "    if i % 10 == 0:\n",
    "        loss_val, acc_val = sess.run([loss, accuracy], feed_dict={x:images, t:labels})\n",
    "        print('Step: {}, Loss: {}, Accuracy: {}'.format(i, loss_val, acc_val))"
   ]
  },
  {
   "cell_type": "code",
   "execution_count": 187,
   "metadata": {},
   "outputs": [
    {
     "data": {
      "text/plain": [
       "<matplotlib.collections.PathCollection at 0x1c24c1a8d30>"
      ]
     },
     "execution_count": 187,
     "metadata": {},
     "output_type": "execute_result"
    },
    {
     "data": {
      "image/png": "[encoded data removed]",
      "text/plain": [
       "<matplotlib.figure.Figure at 0x1c24954df28>"
      ]
     },
     "metadata": {},
     "output_type": "display_data"
    }
   ],
   "source": [
    "hidden2_vals = sess.run(hidden2, feed_dict={x:images})\n",
    "\n",
    "z1_vals = [[], [], []]\n",
    "z2_vals = [[], [], []]\n",
    "\n",
    "for hidden2_val, label in zip(hidden2_vals, labels):\n",
    "    label_num = np.argmax(label)\n",
    "    z1_vals[label_num].append(hidden2_val[0])\n",
    "    z2_vals[label_num].append(hidden2_val[1])\n",
    "\n",
    "fig = plt.figure(figsize=(5,5))\n",
    "subplot = fig.add_subplot(1,1,1)\n",
    "subplot.scatter(z1_vals[0], z2_vals[0], s=200, marker='|')\n",
    "subplot.scatter(z1_vals[1], z2_vals[1], s=200, marker='_')\n",
    "subplot.scatter(z1_vals[2], z2_vals[2], s=200, marker='+')"
   ]
  },
  {
   "cell_type": "code",
   "execution_count": 188,
   "metadata": {},
   "outputs": [
    {
     "data": {
      "image/png": "[encoded data removed]",
      "text/plain": [
       "<matplotlib.figure.Figure at 0x1c24c1b4588>"
      ]
     },
     "metadata": {},
     "output_type": "display_data"
    }
   ],
   "source": [
    "filter_vals, conv_vals = sess.run([W_conv, h_conv_cutoff], feed_dict={x:images[:9]})\n",
    "\n",
    "fig = plt.figure(figsize=(10,3))\n",
    "\n",
    "for i in range(2):\n",
    "    subplot = fig.add_subplot(3, 10, 10*(i+1)+1)\n",
    "    subplot.set_xticks([])\n",
    "    subplot.set_yticks([])\n",
    "    subplot.imshow(filter_vals[:,:,0,i], cmap=plt.cm.gray_r, interpolation='nearest')\n",
    "\n",
    "v_max = np.max(conv_vals)\n",
    "\n",
    "for i in range(9):\n",
    "    \n",
    "    subplot = fig.add_subplot(3, 10, i+2)\n",
    "    subplot.set_xticks([])\n",
    "    subplot.set_yticks([])\n",
    "    subplot.set_title('{}'.format(np.argmax(labels[i])))\n",
    "    subplot.imshow(images[i].reshape((28,28)), vmin=0, vmax=1, cmap=plt.cm.gray_r, interpolation='nearest')\n",
    "    \n",
    "    subplot = fig.add_subplot(3, 10, 10+i+2)\n",
    "    subplot.set_xticks([])\n",
    "    subplot.set_yticks([])\n",
    "    subplot.imshow(conv_vals[i,:,:,0], vmin=0, vmax=v_max, cmap=plt.cm.gray_r, interpolation='nearest')\n",
    "    \n",
    "    subplot = fig.add_subplot(3, 10, 20+i+2)\n",
    "    subplot.set_xticks([])\n",
    "    subplot.set_yticks([])\n",
    "    subplot.imshow(conv_vals[i,:,:,1], vmin=0, vmax=v_max, cmap=plt.cm.gray_r, interpolation='nearest')"
   ]
  },
  {
   "cell_type": "code",
   "execution_count": 189,
   "metadata": {},
   "outputs": [
    {
     "data": {
      "image/png": "[encoded data removed]",
      "text/plain": [
       "<matplotlib.figure.Figure at 0x1c2494ef860>"
      ]
     },
     "metadata": {},
     "output_type": "display_data"
    }
   ],
   "source": [
    "pool_vals = sess.run(h_pool, feed_dict={x:images[:9]})\n",
    "v_max = np.max(pool_vals)\n",
    "\n",
    "fig = plt.figure(figsize=(10,3))\n",
    "\n",
    "for i in range(2):\n",
    "    subplot = fig.add_subplot(3, 10, 10*(i+1)+1)\n",
    "    subplot.set_xticks([])\n",
    "    subplot.set_yticks([])\n",
    "    subplot.imshow(filter_vals[:,:,0,i], cmap=plt.cm.gray_r, interpolation='nearest')\n",
    "\n",
    "v_max = np.max(conv_vals)\n",
    "\n",
    "for i in range(9):\n",
    "    \n",
    "    subplot = fig.add_subplot(3, 10, i+2)\n",
    "    subplot.set_xticks([])\n",
    "    subplot.set_yticks([])\n",
    "    subplot.set_title('{}'.format(np.argmax(labels[i])))\n",
    "    subplot.imshow(images[i].reshape((28,28)), vmin=0, vmax=1, cmap=plt.cm.gray_r, interpolation='nearest')\n",
    "    \n",
    "    subplot = fig.add_subplot(3, 10, 10+i+2)\n",
    "    subplot.set_xticks([])\n",
    "    subplot.set_yticks([])\n",
    "    subplot.imshow(pool_vals[i,:,:,0], vmin=0, vmax=v_max, cmap=plt.cm.gray_r, interpolation='nearest')\n",
    "    \n",
    "    subplot = fig.add_subplot(3, 10, 20+i+2)\n",
    "    subplot.set_xticks([])\n",
    "    subplot.set_yticks([])\n",
    "    subplot.imshow(pool_vals[i,:,:,1], vmin=0, vmax=v_max, cmap=plt.cm.gray_r, interpolation='nearest')"
   ]
  },
  {
   "cell_type": "code",
   "execution_count": 190,
   "metadata": {},
   "outputs": [],
   "source": [
    "sess.close()"
   ]
  },
  {
   "cell_type": "code",
   "execution_count": null,
   "metadata": {},
   "outputs": [],
   "source": []
  }
 ],
 "metadata": {
  "kernelspec": {
   "display_name": "Python 3",
   "language": "python",
   "name": "python3"
  },
  "language_info": {
   "codemirror_mode": {
    "name": "ipython",
    "version": 3
   },
   "file_extension": ".py",
   "mimetype": "text/x-python",
   "name": "python",
   "nbconvert_exporter": "python",
   "pygments_lexer": "ipython3",
   "version": "3.6.4"
  }
 },
 "nbformat": 4,
 "nbformat_minor": 2
}
