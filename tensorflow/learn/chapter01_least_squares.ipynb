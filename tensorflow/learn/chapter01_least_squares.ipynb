{
 "cells": [
  {
   "cell_type": "markdown",
   "metadata": {},
   "source": [
    "Reference: https://github.com/enakai00/jupyter_tfbook"
   ]
  },
  {
   "cell_type": "code",
   "execution_count": 15,
   "metadata": {},
   "outputs": [],
   "source": [
    "import tensorflow as tf\n",
    "import numpy as np\n",
    "import matplotlib.pyplot as plt"
   ]
  },
  {
   "cell_type": "markdown",
   "metadata": {},
   "source": [
    "Least squares\n",
    "\n",
    "$$ y = w_0 + w_1 x + w_2 x^2 + w_3 x^3 + w_4 x^4 $$\n",
    "\n",
    "$$ E = \\frac{1}{2} \\sum_{n=1}^{12} (y_n - t_n)^2 $$\n",
    "\n",
    "$$ y_n = w_0 + w_1 n + w_2 n^2 + w_3 n^3 + w_4 n^4 = \\sum_{m=0}^{4} w_m n^m$$\n",
    "\n",
    "$$ E(w_0, w_1, w_2, w_3, w_4) = \\frac{1}{2} \\sum_{n=1}^{12} (\\sum_{m=0}^{4} w_m n^m - t_n)^2 $$"
   ]
  },
  {
   "cell_type": "markdown",
   "metadata": {},
   "source": [
    "$$\n",
    "y_n = \n",
    "    \\begin{pmatrix}\n",
    "      n^0 n^1 n^2 n^3 n^4\n",
    "    \\end{pmatrix}\n",
    "    \\times\n",
    "    \\begin{pmatrix}\n",
    "      w_0 \\\\\n",
    "      w_1 \\\\\n",
    "      w_2 \\\\\n",
    "      w_3 \\\\\n",
    "      w_4 \\\\\n",
    "    \\end{pmatrix}\n",
    "$$"
   ]
  },
  {
   "cell_type": "markdown",
   "metadata": {},
   "source": [
    "A matrix of every month in a year\n",
    "\n",
    "$$\n",
    "\\boldsymbol{X} =\n",
    "\\begin{pmatrix}\n",
    "      1^0 & 1^1 & 1^2 & 1^3 & 1^4\\\\\n",
    "      2^0 & 2^1 & 2^2 & 2^3 & 2^4\\\\\n",
    "      \\vdots \\\\\n",
    "      12^0 & 12^1 & 12^2 & 12^3 & 12^4\n",
    "    \\end{pmatrix}\n",
    "$$"
   ]
  },
  {
   "cell_type": "code",
   "execution_count": 16,
   "metadata": {},
   "outputs": [],
   "source": [
    "x = tf.placeholder(tf.float32, [None, 5])"
   ]
  },
  {
   "cell_type": "markdown",
   "metadata": {},
   "source": [
    "$$\n",
    "\\boldsymbol{w} =\n",
    "    \\begin{pmatrix}\n",
    "      w_0 \\\\\n",
    "      w_1 \\\\\n",
    "      w_2 \\\\\n",
    "      w_3 \\\\\n",
    "      w_4 \\\\\n",
    "    \\end{pmatrix}\n",
    "$$"
   ]
  },
  {
   "cell_type": "code",
   "execution_count": 17,
   "metadata": {},
   "outputs": [],
   "source": [
    "w = tf.Variable(tf.zeros([5, 1]))"
   ]
  },
  {
   "cell_type": "markdown",
   "metadata": {},
   "source": [
    "$$\n",
    "\\boldsymbol{y} =\n",
    "    \\begin{pmatrix}\n",
    "      y_1 \\\\\n",
    "      y_2 \\\\\n",
    "      \\vdots \\\\\n",
    "      y_{12}\n",
    "    \\end{pmatrix}\n",
    "$$\n",
    "\n",
    "$$ \\boldsymbol{y} = \\boldsymbol{X} \\boldsymbol{w}$$"
   ]
  },
  {
   "cell_type": "code",
   "execution_count": 18,
   "metadata": {},
   "outputs": [],
   "source": [
    "y = tf.matmul(x, w)"
   ]
  },
  {
   "cell_type": "markdown",
   "metadata": {},
   "source": [
    "Temperature average every month\n",
    "\n",
    "$$\n",
    "\\boldsymbol{t} =\n",
    "    \\begin{pmatrix}\n",
    "      t_1 \\\\\n",
    "      t_2 \\\\\n",
    "      \\vdots \\\\\n",
    "      t_{12}\n",
    "    \\end{pmatrix}\n",
    "$$"
   ]
  },
  {
   "cell_type": "code",
   "execution_count": 19,
   "metadata": {},
   "outputs": [],
   "source": [
    "t = tf.placeholder(tf.float32, [None, 1])"
   ]
  },
  {
   "cell_type": "markdown",
   "metadata": {},
   "source": [
    "$$ E = \\frac{1}{2}reduce\\_sum(square(\\boldsymbol{y}-\\boldsymbol{t})) $$"
   ]
  },
  {
   "cell_type": "code",
   "execution_count": 20,
   "metadata": {},
   "outputs": [],
   "source": [
    "loss = tf.reduce_sum(tf.square(y-t))"
   ]
  },
  {
   "cell_type": "code",
   "execution_count": 21,
   "metadata": {},
   "outputs": [],
   "source": [
    "train_step = tf.train.AdamOptimizer().minimize(loss)"
   ]
  },
  {
   "cell_type": "code",
   "execution_count": 22,
   "metadata": {},
   "outputs": [],
   "source": [
    "train_t = np.array([5.2, 5.7, 8.6, 14.9, 18.2, 20.4, 25.5, 26.4, 22.8, 17.5, 11.1, 6.6])\n",
    "train_t = train_t.reshape([12, 1])\n",
    "\n",
    "train_x = np.zeros([12, 5])\n",
    "for row, month in enumerate(range(1, 13)):\n",
    "    for col, n in enumerate(range(0, 5)):\n",
    "        train_x[row][col] = month**n"
   ]
  },
  {
   "cell_type": "code",
   "execution_count": 23,
   "metadata": {},
   "outputs": [],
   "source": [
    "sess = tf.Session()\n",
    "sess.run(tf.global_variables_initializer())"
   ]
  },
  {
   "cell_type": "code",
   "execution_count": 24,
   "metadata": {},
   "outputs": [
    {
     "name": "stdout",
     "output_type": "stream",
     "text": [
      "Step: 10000, Loss: 31.012832641601562\n",
      "Step: 20000, Loss: 29.292377471923828\n",
      "Step: 30000, Loss: 28.031116485595703\n",
      "Step: 40000, Loss: 27.911422729492188\n",
      "Step: 50000, Loss: 25.769744873046875\n",
      "Step: 60000, Loss: 24.764514923095703\n",
      "Step: 70000, Loss: 23.839672088623047\n",
      "Step: 80000, Loss: 22.97088050842285\n",
      "Step: 90000, Loss: 22.467998504638672\n",
      "Step: 100000, Loss: 21.445119857788086\n"
     ]
    }
   ],
   "source": [
    "i = 0\n",
    "for _ in range(100000):\n",
    "    i += 1\n",
    "    sess.run(train_step, feed_dict={x:train_x, t:train_t})\n",
    "    if i % 10000 == 0:\n",
    "        loss_val = sess.run(loss, feed_dict={x:train_x, t:train_t})\n",
    "        print('Step: {}, Loss: {}'.format(i, loss_val))"
   ]
  },
  {
   "cell_type": "code",
   "execution_count": 25,
   "metadata": {},
   "outputs": [
    {
     "name": "stdout",
     "output_type": "stream",
     "text": [
      "[[ 3.7658305 ]\n",
      " [-1.5907954 ]\n",
      " [ 1.7854367 ]\n",
      " [-0.20124646]\n",
      " [ 0.00536682]]\n"
     ]
    }
   ],
   "source": [
    "w_val = sess.run(w)\n",
    "print(w_val)"
   ]
  },
  {
   "cell_type": "code",
   "execution_count": 26,
   "metadata": {},
   "outputs": [],
   "source": [
    "def predict(x):\n",
    "    result = 0.0\n",
    "    for n in range(0, 5):\n",
    "        result += w_val[n][0] * x**n\n",
    "    return result"
   ]
  },
  {
   "cell_type": "code",
   "execution_count": 27,
   "metadata": {},
   "outputs": [
    {
     "data": {
      "text/plain": [
       "[<matplotlib.lines.Line2D at 0x2561d3ced68>]"
      ]
     },
     "execution_count": 27,
     "metadata": {},
     "output_type": "execute_result"
    },
    {
     "data": {
      "image/png": "[encoded data removed]",
      "text/plain": [
       "<matplotlib.figure.Figure at 0x2561d3ce6d8>"
      ]
     },
     "metadata": {},
     "output_type": "display_data"
    }
   ],
   "source": [
    "fig = plt.figure()\n",
    "subplot = fig.add_subplot(1, 1, 1)\n",
    "subplot.set_xlim(1, 12)\n",
    "subplot.scatter(range(1, 13), train_t)\n",
    "linex = np.linspace(1, 12, 100)\n",
    "liney = predict(linex)\n",
    "subplot.plot(linex, liney)"
   ]
  },
  {
   "cell_type": "code",
   "execution_count": null,
   "metadata": {},
   "outputs": [],
   "source": []
  }
 ],
 "metadata": {
  "kernelspec": {
   "display_name": "Python 3",
   "language": "python",
   "name": "python3"
  },
  "language_info": {
   "codemirror_mode": {
    "name": "ipython",
    "version": 3
   },
   "file_extension": ".py",
   "mimetype": "text/x-python",
   "name": "python",
   "nbconvert_exporter": "python",
   "pygments_lexer": "ipython3",
   "version": "3.6.4"
  }
 },
 "nbformat": 4,
 "nbformat_minor": 2
}
