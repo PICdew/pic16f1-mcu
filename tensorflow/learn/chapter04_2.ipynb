{
 "cells": [
  {
   "cell_type": "markdown",
   "metadata": {},
   "source": [
    "Reference: https://github.com/enakai00/jupyter_tfbook"
   ]
  },
  {
   "cell_type": "code",
   "execution_count": 88,
   "metadata": {},
   "outputs": [],
   "source": [
    "import tensorflow as tf\n",
    "import numpy as np\n",
    "import matplotlib.pyplot as plt\n",
    "import pickle\n",
    "\n",
    "tf.logging.set_verbosity(tf.logging.ERROR)\n",
    "\n",
    "np.random.seed(20180815)\n",
    "tf.set_random_seed(20180815)"
   ]
  },
  {
   "cell_type": "code",
   "execution_count": 89,
   "metadata": {},
   "outputs": [],
   "source": [
    "with open('./data/ORENIST.data', 'rb') as file:\n",
    "    images, labels = pickle.load(file, encoding='bytes')\n",
    "    \n",
    "def edge_filter():\n",
    "    \n",
    "    filter0 = np.array(\n",
    "    [[ 2, 1, 0,-1,-2],\n",
    "     [ 3, 2, 0,-2,-3],\n",
    "     [ 4, 3, 0,-3,-4],\n",
    "     [ 3, 2, 0,-2,-3],\n",
    "     [ 2, 1, 0,-1,-2]]) / 23.0\n",
    "    \n",
    "    filter1 = np.array(\n",
    "    [[ 2, 3, 4, 3 ,2],\n",
    "     [ 1, 2, 3, 2, 1],\n",
    "     [ 0, 0, 0, 0, 0],\n",
    "     [-1,-2,-3,-2,-1],\n",
    "     [-2,-3,-4,-3,-2]]) / 23.0\n",
    "    \n",
    "    filter_array = np.zeros([5,5,1,2])\n",
    "    filter_array[:,:,0,0] = filter0\n",
    "    filter_array[:,:,0,1] = filter1\n",
    "    \n",
    "    return tf.constant(filter_array, dtype=tf.float32)"
   ]
  },
  {
   "cell_type": "code",
   "execution_count": 90,
   "metadata": {},
   "outputs": [],
   "source": [
    "x = tf.placeholder(tf.float32, [None, 784])\n",
    "x_image = tf.reshape(x, [-1, 28, 28, 1])\n",
    "\n",
    "W_conv = edge_filter()\n",
    "h_conv = tf.abs(tf.nn.conv2d(x_image, W_conv, strides=[1,1,1,1], padding='SAME'))\n",
    "h_conv_cutoff = tf.nn.relu(h_conv - 0.2)\n",
    "h_pool = tf.nn.max_pool(h_conv_cutoff, ksize=[1,2,2,1], strides=[1,2,2,1], padding='SAME')"
   ]
  },
  {
   "cell_type": "code",
   "execution_count": 91,
   "metadata": {},
   "outputs": [],
   "source": [
    "h_pool_flat = tf.reshape(h_pool, [-1, 392])\n",
    "\n",
    "num_units1 = 392\n",
    "num_units2 = 2\n",
    "\n",
    "w2 = tf.Variable(tf.truncated_normal([num_units1, num_units2]))\n",
    "b2 = tf.Variable(tf.zeros([num_units2]))\n",
    "hidden2 = tf.nn.tanh(tf.matmul(h_pool_flat, w2) + b2)\n",
    "\n",
    "w0 = tf.Variable(tf.zeros([num_units2, 3]))\n",
    "b0 = tf.Variable(tf.zeros([3]))\n",
    "p = tf.nn.softmax(tf.matmul(hidden2, w0) + b0)"
   ]
  },
  {
   "cell_type": "code",
   "execution_count": 92,
   "metadata": {},
   "outputs": [],
   "source": [
    "t = tf.placeholder(tf.float32, [None, 3])\n",
    "loss = -tf.reduce_sum(t * tf.log(p))\n",
    "train_step = tf.train.AdamOptimizer().minimize(loss)\n",
    "correct_prediction = tf.equal(tf.argmax(p, 1), tf.argmax(t, 1))\n",
    "accuracy = tf.reduce_mean(tf.cast(correct_prediction, tf.float32))"
   ]
  },
  {
   "cell_type": "code",
   "execution_count": 93,
   "metadata": {},
   "outputs": [
    {
     "name": "stderr",
     "output_type": "stream",
     "text": [
      "C:\\Users\\shiny\\Anaconda3\\lib\\site-packages\\tensorflow\\python\\client\\session.py:1714: UserWarning: An interactive session is already active. This can cause out-of-memory errors in some cases. You must explicitly call `InteractiveSession.close()` to release resources held by the other session(s).\n",
      "  warnings.warn('An interactive session is already active. This can '\n"
     ]
    }
   ],
   "source": [
    "sess = tf.InteractiveSession()\n",
    "sess.run(tf.global_variables_initializer())"
   ]
  },
  {
   "cell_type": "code",
   "execution_count": 94,
   "metadata": {},
   "outputs": [
    {
     "name": "stdout",
     "output_type": "stream",
     "text": [
      "Step: 10, Loss: 98.06525421142578, Accuracy: 0.699999988079071\n",
      "Step: 20, Loss: 97.18062591552734, Accuracy: 0.7333333492279053\n",
      "Step: 30, Loss: 96.18102264404297, Accuracy: 0.7777777910232544\n",
      "Step: 40, Loss: 95.01659393310547, Accuracy: 0.800000011920929\n",
      "Step: 50, Loss: 93.59001159667969, Accuracy: 0.8444444537162781\n",
      "Step: 60, Loss: 91.77678680419922, Accuracy: 0.8888888955116272\n",
      "Step: 70, Loss: 89.60964965820312, Accuracy: 0.9222221970558167\n",
      "Step: 80, Loss: 87.41492462158203, Accuracy: 0.9222221970558167\n",
      "Step: 90, Loss: 85.40164184570312, Accuracy: 0.9222221970558167\n",
      "Step: 100, Loss: 83.48697662353516, Accuracy: 0.9444444179534912\n",
      "Step: 110, Loss: 81.56340789794922, Accuracy: 0.9555555582046509\n",
      "Step: 120, Loss: 79.6041488647461, Accuracy: 0.9666666388511658\n",
      "Step: 130, Loss: 77.69786834716797, Accuracy: 0.9777777791023254\n",
      "Step: 140, Loss: 75.92179870605469, Accuracy: 0.9777777791023254\n",
      "Step: 150, Loss: 74.25202941894531, Accuracy: 0.9777777791023254\n",
      "Step: 160, Loss: 72.64329528808594, Accuracy: 0.9888888597488403\n",
      "Step: 170, Loss: 71.07832336425781, Accuracy: 1.0\n",
      "Step: 180, Loss: 69.57447814941406, Accuracy: 1.0\n",
      "Step: 190, Loss: 68.15380096435547, Accuracy: 1.0\n",
      "Step: 200, Loss: 66.81489562988281, Accuracy: 1.0\n"
     ]
    }
   ],
   "source": [
    "i = 0\n",
    "for _ in range(200):\n",
    "    i += 1\n",
    "    sess.run(train_step, feed_dict={x:images, t:labels})\n",
    "    if i % 10 == 0:\n",
    "        loss_val, acc_val = sess.run([loss, accuracy], feed_dict={x:images, t:labels})\n",
    "        print('Step: {}, Loss: {}, Accuracy: {}'.format(i, loss_val, acc_val))"
   ]
  },
  {
   "cell_type": "code",
   "execution_count": 95,
   "metadata": {},
   "outputs": [
    {
     "data": {
      "text/plain": [
       "<matplotlib.collections.PathCollection at 0x1af4c7e20b8>"
      ]
     },
     "execution_count": 95,
     "metadata": {},
     "output_type": "execute_result"
    },
    {
     "data": {
      "image/png": "[encoded data removed]",
      "text/plain": [
       "<matplotlib.figure.Figure at 0x1af4c7ab630>"
      ]
     },
     "metadata": {},
     "output_type": "display_data"
    }
   ],
   "source": [
    "hidden2_vals = sess.run(hidden2, feed_dict={x:images})\n",
    "\n",
    "z1_vals = [[], [], []]\n",
    "z2_vals = [[], [], []]\n",
    "\n",
    "for hidden2_val, label in zip(hidden2_vals, labels):\n",
    "    label_num = np.argmax(label)\n",
    "    z1_vals[label_num].append(hidden2_val[0])\n",
    "    z2_vals[label_num].append(hidden2_val[1])\n",
    "\n",
    "fig = plt.figure(figsize=(5,5))\n",
    "subplot = fig.add_subplot(1,1,1)\n",
    "subplot.scatter(z1_vals[0], z2_vals[0], s=200, marker='|')\n",
    "subplot.scatter(z1_vals[1], z2_vals[1], s=200, marker='_')\n",
    "subplot.scatter(z1_vals[2], z2_vals[2], s=200, marker='+')"
   ]
  },
  {
   "cell_type": "code",
   "execution_count": 87,
   "metadata": {},
   "outputs": [],
   "source": [
    "sess.close()"
   ]
  }
 ],
 "metadata": {
  "kernelspec": {
   "display_name": "Python 3",
   "language": "python",
   "name": "python3"
  },
  "language_info": {
   "codemirror_mode": {
    "name": "ipython",
    "version": 3
   },
   "file_extension": ".py",
   "mimetype": "text/x-python",
   "name": "python",
   "nbconvert_exporter": "python",
   "pygments_lexer": "ipython3",
   "version": "3.6.4"
  }
 },
 "nbformat": 4,
 "nbformat_minor": 2
}
