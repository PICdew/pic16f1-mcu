{
 "cells": [
  {
   "cell_type": "markdown",
   "metadata": {},
   "source": [
    "Reference: https://github.com/enakai00/jupyter_tfbook"
   ]
  },
  {
   "cell_type": "code",
   "execution_count": 29,
   "metadata": {},
   "outputs": [],
   "source": [
    "import tensorflow as tf\n",
    "import numpy as np\n",
    "import matplotlib.pyplot as plt\n",
    "import pickle\n",
    "\n",
    "tf.logging.set_verbosity(tf.logging.ERROR)\n",
    "\n",
    "np.random.seed(20180815)\n",
    "tf.set_random_seed(20180815)"
   ]
  },
  {
   "cell_type": "code",
   "execution_count": 30,
   "metadata": {},
   "outputs": [],
   "source": [
    "with open('./data/ORENIST.data', 'rb') as file:\n",
    "    images, labels = pickle.load(file, encoding='bytes')\n",
    "    \n",
    "def edge_filter():\n",
    "    \n",
    "    filter0 = np.array(\n",
    "    [[ 2, 1, 0,-1,-2],\n",
    "     [ 3, 2, 0,-2,-3],\n",
    "     [ 4, 3, 0,-3,-4],\n",
    "     [ 3, 2, 0,-2,-3],\n",
    "     [ 2, 1, 0,-1,-2]]) / 23.0\n",
    "    \n",
    "    filter1 = np.array(\n",
    "    [[ 2, 3, 4, 3 ,2],\n",
    "     [ 1, 2, 3, 2, 1],\n",
    "     [ 0, 0, 0, 0, 0],\n",
    "     [-1,-2,-3,-2,-1],\n",
    "     [-2,-3,-4,-3,-2]]) / 23.0\n",
    "    \n",
    "    filter_array = np.zeros([5,5,1,2])\n",
    "    filter_array[:,:,0,0] = filter0\n",
    "    filter_array[:,:,0,1] = filter1\n",
    "    \n",
    "    return tf.constant(filter_array, dtype=tf.float32)"
   ]
  },
  {
   "cell_type": "code",
   "execution_count": 31,
   "metadata": {},
   "outputs": [],
   "source": [
    "x = tf.placeholder(tf.float32, [None, 784])\n",
    "x_image = tf.reshape(x, [-1, 28, 28, 1])\n",
    "\n",
    "W_conv = edge_filter()\n",
    "h_conv = tf.abs(tf.nn.conv2d(x_image, W_conv, strides=[1,1,1,1], padding='SAME'))\n",
    "h_conv_cutoff = tf.nn.relu(h_conv - 0.2)\n",
    "h_pool = tf.nn.max_pool(h_conv_cutoff, ksize=[1,2,2,1], strides=[1,2,2,1], padding='SAME')"
   ]
  },
  {
   "cell_type": "code",
   "execution_count": 32,
   "metadata": {},
   "outputs": [],
   "source": [
    "h_pool_flat = tf.reshape(h_pool, [-1, 392])\n",
    "\n",
    "num_units1 = 392\n",
    "num_units2 = 2\n",
    "\n",
    "w2 = tf.Variable(tf.truncated_normal([num_units1, num_units2]))\n",
    "b2 = tf.Variable(tf.zeros([num_units2]))\n",
    "hidden2 = tf.nn.tanh(tf.matmul(h_pool_flat, w2) + b2)\n",
    "\n",
    "w0 = tf.Variable(tf.zeros([num_units2, 3]))\n",
    "b0 = tf.Variable(tf.zeros([3]))\n",
    "p = tf.nn.softmax(tf.matmul(hidden2, w0) + b0)"
   ]
  },
  {
   "cell_type": "code",
   "execution_count": 33,
   "metadata": {},
   "outputs": [],
   "source": [
    "t = tf.placeholder(tf.float32, [None, 3])\n",
    "loss = -tf.reduce_sum(t * tf.log(p))\n",
    "train_step = tf.train.AdamOptimizer().minimize(loss)\n",
    "correct_prediction = tf.equal(tf.argmax(p, 1), tf.argmax(t, 1))\n",
    "accuracy = tf.reduce_mean(tf.cast(correct_prediction, tf.float32))"
   ]
  },
  {
   "cell_type": "code",
   "execution_count": 34,
   "metadata": {},
   "outputs": [],
   "source": [
    "sess = tf.InteractiveSession()\n",
    "sess.run(tf.global_variables_initializer())"
   ]
  },
  {
   "cell_type": "code",
   "execution_count": 35,
   "metadata": {},
   "outputs": [
    {
     "name": "stdout",
     "output_type": "stream",
     "text": [
      "Step: 10, Loss: 98.5355224609375, Accuracy: 0.5\n",
      "Step: 20, Loss: 98.10842895507812, Accuracy: 0.5222222208976746\n",
      "Step: 30, Loss: 97.60027313232422, Accuracy: 0.5222222208976746\n",
      "Step: 40, Loss: 97.03011322021484, Accuracy: 0.5333333611488342\n",
      "Step: 50, Loss: 96.40057373046875, Accuracy: 0.5555555820465088\n",
      "Step: 60, Loss: 95.68826293945312, Accuracy: 0.5555555820465088\n",
      "Step: 70, Loss: 94.86825561523438, Accuracy: 0.5777778029441833\n",
      "Step: 80, Loss: 93.87022399902344, Accuracy: 0.644444465637207\n",
      "Step: 90, Loss: 92.37223052978516, Accuracy: 0.7111111283302307\n",
      "Step: 100, Loss: 89.916015625, Accuracy: 0.7555555701255798\n",
      "Step: 110, Loss: 86.2970199584961, Accuracy: 0.8666666746139526\n",
      "Step: 120, Loss: 81.66773223876953, Accuracy: 0.9222221970558167\n",
      "Step: 130, Loss: 77.48494720458984, Accuracy: 0.9333333373069763\n",
      "Step: 140, Loss: 74.2038803100586, Accuracy: 0.9555555582046509\n",
      "Step: 150, Loss: 71.32266235351562, Accuracy: 0.9777777791023254\n",
      "Step: 160, Loss: 68.77330017089844, Accuracy: 1.0\n",
      "Step: 170, Loss: 66.65381622314453, Accuracy: 1.0\n",
      "Step: 180, Loss: 64.83853912353516, Accuracy: 1.0\n",
      "Step: 190, Loss: 63.20296096801758, Accuracy: 1.0\n",
      "Step: 200, Loss: 61.690704345703125, Accuracy: 1.0\n"
     ]
    }
   ],
   "source": [
    "i = 0\n",
    "for _ in range(200):\n",
    "    i += 1\n",
    "    sess.run(train_step, feed_dict={x:images, t:labels})\n",
    "    if i % 10 == 0:\n",
    "        loss_val, acc_val = sess.run([loss, accuracy], feed_dict={x:images, t:labels})\n",
    "        print('Step: {}, Loss: {}, Accuracy: {}'.format(i, loss_val, acc_val))"
   ]
  },
  {
   "cell_type": "code",
   "execution_count": 36,
   "metadata": {},
   "outputs": [
    {
     "data": {
      "text/plain": [
       "<matplotlib.collections.PathCollection at 0x1a7e29bea20>"
      ]
     },
     "execution_count": 36,
     "metadata": {},
     "output_type": "execute_result"
    },
    {
     "data": {
      "image/png": "[encoded data removed]",
      "text/plain": [
       "<matplotlib.figure.Figure at 0x1a7e297c048>"
      ]
     },
     "metadata": {},
     "output_type": "display_data"
    }
   ],
   "source": [
    "hidden2_vals = sess.run(hidden2, feed_dict={x:images})\n",
    "\n",
    "z1_vals = [[], [], []]\n",
    "z2_vals = [[], [], []]\n",
    "\n",
    "for hidden2_val, label in zip(hidden2_vals, labels):\n",
    "    label_num = np.argmax(label)\n",
    "    z1_vals[label_num].append(hidden2_val[0])\n",
    "    z2_vals[label_num].append(hidden2_val[1])\n",
    "\n",
    "fig = plt.figure(figsize=(5,5))\n",
    "subplot = fig.add_subplot(1,1,1)\n",
    "subplot.scatter(z1_vals[0], z2_vals[0], s=200, marker='|')\n",
    "subplot.scatter(z1_vals[1], z2_vals[1], s=200, marker='_')\n",
    "subplot.scatter(z1_vals[2], z2_vals[2], s=200, marker='+')"
   ]
  },
  {
   "cell_type": "code",
   "execution_count": 37,
   "metadata": {},
   "outputs": [],
   "source": [
    "sess.close()"
   ]
  }
 ],
 "metadata": {
  "kernelspec": {
   "display_name": "Python 3",
   "language": "python",
   "name": "python3"
  },
  "language_info": {
   "codemirror_mode": {
    "name": "ipython",
    "version": 3
   },
   "file_extension": ".py",
   "mimetype": "text/x-python",
   "name": "python",
   "nbconvert_exporter": "python",
   "pygments_lexer": "ipython3",
   "version": "3.6.4"
  }
 },
 "nbformat": 4,
 "nbformat_minor": 2
}
