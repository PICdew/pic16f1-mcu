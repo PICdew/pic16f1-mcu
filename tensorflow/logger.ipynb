{
 "cells": [
  {
   "cell_type": "code",
   "execution_count": 4,
   "metadata": {},
   "outputs": [],
   "source": [
    "%matplotlib inline\n",
    "\n",
    "import matplotlib\n",
    "import matplotlib.pyplot as plt\n",
    "import numpy as np\n",
    "import pandas as pd\n",
    "import scipy.signal as sg\n",
    "import serial\n",
    "import time\n",
    "\n",
    "matplotlib.rcParams['figure.figsize'] = [10, 3]\n",
    "\n",
    "SAMPLE_NUMS = 260  # sec\n",
    "SAMPLING_RATE = 80.0  # Hz\n",
    "GYRO_RESOLUTION = 250.0 / 32768.0\n",
    "ACCEL_RESOLUTION = 2.0 / 32768.0\n",
    "RAW_DATA_FILE = './raw_data.csv'\n",
    "PORT = 'COM8'\n",
    "TIME_INTERVAL = 260.0 / SAMPLING_RATE  # sec\n",
    "\n",
    "RIM_SIZE = 20.0 * 2.54 / 100.0  # meter\n",
    "RIM_DIAMTER = RIM_SIZE * np.pi \n",
    "\n",
    "def pulses2speed(pulses):\n",
    "    running_distance_km = pulses * RIM_DIAMTER / 1000.0\n",
    "    speed_km_per_hour = running_distance_km / TIME_INTERVAL * 3600.0\n",
    "    return int(speed_km_per_hour)"
   ]
  },
  {
   "cell_type": "code",
   "execution_count": 6,
   "metadata": {},
   "outputs": [],
   "source": [
    "ser = serial.Serial(PORT, 115200)\n",
    "ser.write(b'd')\n",
    "\n",
    "with open(RAW_DATA_FILE, 'w') as f:\n",
    "    while True:\n",
    "        line = ser.readline().decode('ascii')\n",
    "        if line == '\\n':\n",
    "            break\n",
    "        f.write(line)\n",
    "ser.close()"
   ]
  },
  {
   "cell_type": "code",
   "execution_count": null,
   "metadata": {},
   "outputs": [],
   "source": [
    "df = pd.read_csv(RAW_DATA_FILE, dtype=np.int16)\n",
    "\n",
    "gres = lambda v: v * GYRO_RESOLUTION\n",
    "ares = lambda v: v * ACCEL_RESOLUTION\n",
    "to_time = lambda v: v / SAMPLING_RATE\n",
    "df[['gx', 'gy', 'gz']] = df[['gx', 'gy', 'gz']].apply(gres)\n",
    "df[['ax', 'ay', 'az']] = df[['ax', 'ay', 'az']].apply(ares)\n",
    "df[['cnt']] = df[['cnt']].apply(to_time)\n",
    "df.set_index('cnt', drop=True, inplace=True)\n",
    "measurements = df.tail(1).iloc[0,0] + 1\n",
    "df.tail()"
   ]
  },
  {
   "cell_type": "code",
   "execution_count": null,
   "metadata": {
    "scrolled": false
   },
   "outputs": [],
   "source": [
    "for i in range(measurements):\n",
    "    df2 = df[df['id']==i]\n",
    "    ax = df2[['pls']].plot(yticks=[0,1,2,3])\n",
    "    pulses = df2['pls'].sum()\n",
    "    ax.set_xlabel('Elapsed time in sec')\n",
    "    ax.set_ylabel('Pulses')\n",
    "    ax.set_title('Speed pulses (id = {}, speed = {} km/h)'.format(i, pulses2speed(pulses)))"
   ]
  },
  {
   "cell_type": "code",
   "execution_count": null,
   "metadata": {
    "scrolled": false
   },
   "outputs": [],
   "source": [
    "for i in range(measurements):\n",
    "    df2 = df[df['id']==i]\n",
    "    ax = df2[['ax', 'ay', 'az']].plot()\n",
    "    ax.set_xlabel('Elapsed time in sec')\n",
    "    ax.set_ylabel('Acceleration in G')\n",
    "    ax.set_title('Acceleration (id = {})'.format(i))\n",
    "    ax = df2[['gx', 'gy', 'gz']].plot()\n",
    "    ax.set_xlabel('Elapsed time in sec')\n",
    "    ax.set_ylabel('Angular velocity in degrees per sec')\n",
    "    ax.set_title('Angular velocity (id = {})'.format(i))"
   ]
  },
  {
   "cell_type": "code",
   "execution_count": null,
   "metadata": {},
   "outputs": [],
   "source": [
    "CUTOFF = 10.0\n",
    "b, a = sg.butter(5, CUTOFF/SAMPLING_RATE, btype='low')\n",
    "df[['ax', 'ay', 'az']] = df[['ax', 'ay', 'az']].apply(lambda row: sg.lfilter(b, a, row))\n",
    "\n",
    "CUTOFF = 3.0\n",
    "b, a = sg.butter(5, CUTOFF/SAMPLING_RATE, btype='low')\n",
    "df[['gx', 'gy', 'gz']] = df[['gx', 'gy', 'gz']].apply(lambda row: sg.lfilter(b, a, row))"
   ]
  },
  {
   "cell_type": "code",
   "execution_count": null,
   "metadata": {
    "scrolled": false
   },
   "outputs": [],
   "source": [
    "for i in range(measurements):\n",
    "    df2 = df[df['id']==i]\n",
    "    ax = df2[['ax', 'ay', 'az']].plot()\n",
    "    ax.set_xlabel('Elapsed time in sec')\n",
    "    ax.set_ylabel('Acceleration in G')\n",
    "    ax.set_title('Acceleration (id = {})'.format(i))\n",
    "    ax = df2[['gx', 'gy', 'gz']].plot()\n",
    "    ax.set_xlabel('Elapsed time in sec')\n",
    "    ax.set_ylabel('Angular velocity in degrees per sec')\n",
    "    ax.set_title('Angular velocity (id = {})'.format(i))"
   ]
  },
  {
   "cell_type": "code",
   "execution_count": null,
   "metadata": {},
   "outputs": [],
   "source": []
  }
 ],
 "metadata": {
  "kernelspec": {
   "display_name": "Python 3",
   "language": "python",
   "name": "python3"
  },
  "language_info": {
   "codemirror_mode": {
    "name": "ipython",
    "version": 3
   },
   "file_extension": ".py",
   "mimetype": "text/x-python",
   "name": "python",
   "nbconvert_exporter": "python",
   "pygments_lexer": "ipython3",
   "version": "3.6.4"
  }
 },
 "nbformat": 4,
 "nbformat_minor": 2
}
