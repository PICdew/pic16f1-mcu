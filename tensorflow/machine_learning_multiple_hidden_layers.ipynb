{
 "cells": [
  {
   "cell_type": "markdown",
   "metadata": {},
   "source": [
    "# Machine learning with TensorFlow: multiple hidden layers\n",
    "\n",
    "Date: August 21-23, 2018\n",
    "\n",
    "Neural network: three hidden layers\n",
    "\n",
    "Classification of human body motion:\n",
    "- walking\n",
    "- sitting down\n",
    "- turning right while walking\n",
    "- turning left while walking"
   ]
  },
  {
   "cell_type": "code",
   "execution_count": 92,
   "metadata": {},
   "outputs": [],
   "source": [
    "%matplotlib inline\n",
    "\n",
    "import matplotlib\n",
    "import matplotlib.pyplot as plt\n",
    "import numpy as np\n",
    "import pandas as pd\n",
    "import scipy.signal as sg\n",
    "import serial\n",
    "import time\n",
    "import random"
   ]
  },
  {
   "cell_type": "markdown",
   "metadata": {},
   "source": [
    "## Preparing data set for training"
   ]
  },
  {
   "cell_type": "code",
   "execution_count": 93,
   "metadata": {},
   "outputs": [],
   "source": [
    "SAMPLE_NUMS = 260  # per sec\n",
    "SAMPLING_RATE = 80.0  # Hz\n",
    "GYRO_RESOLUTION = 250.0 / 32768.0\n",
    "ACCEL_RESOLUTION = 2.0 / 32768.0\n",
    "\n",
    "TRAINING_SET = [['./20180821_walking_straight.csv', 0],\n",
    "               ['./20180821_sitting.csv', 1],\n",
    "               ['./20180821_turning_left.csv', 2],\n",
    "               ['./20180821_turning_right.csv', 3],                \n",
    "               ['./20180823_walking_straight.csv', 0],\n",
    "               ['./20180823_sitting.csv', 1],\n",
    "               ['./20180823_turning_left.csv', 2],\n",
    "               ['./20180823_turning_right.csv', 3]]\n",
    "\n",
    "TEST_SET = [['./20180822_walking_straight.csv', 0],\n",
    "            ['./20180822_sitting.csv', 1],\n",
    "            ['./20180822_turning_left.csv', 2],\n",
    "            ['./20180822_turning_right.csv', 3]]\n",
    "\n",
    "TIME_INTERVAL = 260.0 / SAMPLING_RATE  # sec\n",
    "\n",
    "MEASUREMENTS = 8\n",
    "RECORDS = 260"
   ]
  },
  {
   "cell_type": "code",
   "execution_count": 94,
   "metadata": {},
   "outputs": [],
   "source": [
    "gres = lambda v: v * GYRO_RESOLUTION\n",
    "ares = lambda v: v * ACCEL_RESOLUTION\n",
    "to_time = lambda v: v / SAMPLING_RATE\n",
    "\n",
    "def conv(df, lpf=False):\n",
    "    df[['gx', 'gy', 'gz']] = df[['gx', 'gy', 'gz']].apply(gres)\n",
    "    df[['ax', 'ay', 'az']] = df[['ax', 'ay', 'az']].apply(ares)\n",
    "    if lpf:\n",
    "        CUTOFF = 10.0\n",
    "        b, a = sg.butter(5, CUTOFF/SAMPLING_RATE, btype='low')\n",
    "        df[['ax', 'ay', 'az']] = df[['ax', 'ay', 'az']].apply(lambda row: sg.lfilter(b, a, row))\n",
    "        CUTOFF = 10.0\n",
    "        b, a = sg.butter(5, CUTOFF/SAMPLING_RATE, btype='low')\n",
    "        df[['gx', 'gy', 'gz']] = df[['gx', 'gy', 'gz']].apply(lambda row: sg.lfilter(b, a, row))\n",
    "    df[['cnt']] = df[['cnt']].apply(to_time)\n",
    "    df.set_index('cnt', drop=True, inplace=True)\n",
    "    # measurements = df.tail(1).iloc[0,0] + 1\n",
    "    # return measurements"
   ]
  },
  {
   "cell_type": "code",
   "execution_count": 95,
   "metadata": {
    "scrolled": false
   },
   "outputs": [],
   "source": [
    "training_set = []\n",
    "test_set = []\n",
    "\n",
    "def label(l):\n",
    "    ll = [0,0,0,0]\n",
    "    ll[l] = 1\n",
    "    return ll\n",
    "\n",
    "for file, l in TRAINING_SET:\n",
    "    df = pd.read_csv(file, dtype=np.int16)\n",
    "    conv(df, lpf=True)\n",
    "    for i in range(MEASUREMENTS):\n",
    "        training_set.append([df[df['id']==i], label(l)])\n",
    "        \n",
    "for file, l in TEST_SET:\n",
    "    df = pd.read_csv(file, dtype=np.int16)\n",
    "    conv(df, lpf=True)\n",
    "    for i in range(MEASUREMENTS):\n",
    "        test_set.append([df[df['id']==i], label(l)])\n",
    "    \n",
    "random.shuffle(training_set)\n",
    "random.shuffle(test_set)"
   ]
  },
  {
   "cell_type": "code",
   "execution_count": 96,
   "metadata": {
    "scrolled": false
   },
   "outputs": [],
   "source": [
    "# use accel x axis and gyro z axis values for classification of human body motion\n",
    "train_x, train_t = [], []\n",
    "test_x, test_t = [], []\n",
    "for df, label in training_set:\n",
    "    values = np.concatenate((df['ax'].values, df['ay'].values, df['az'].values,\n",
    "                             df['gx'].values, df['gy'].values, df['gz'].values),\n",
    "                            axis=None)\n",
    "    train_x.append(values)\n",
    "    train_t.append(label)\n",
    "for df, label in test_set:\n",
    "    values = np.concatenate((df['ax'].values, df['ay'].values, df['az'].values,\n",
    "                             df['gx'].values, df['gy'].values, df['gz'].values),\n",
    "                            axis=None)\n",
    "    test_x.append(values)\n",
    "    test_t.append(label)"
   ]
  },
  {
   "cell_type": "markdown",
   "metadata": {},
   "source": [
    "## TensorFlow"
   ]
  },
  {
   "cell_type": "code",
   "execution_count": 97,
   "metadata": {},
   "outputs": [],
   "source": [
    "import tensorflow as tf\n",
    "tf.logging.set_verbosity(tf.logging.ERROR)\n",
    "\n",
    "import numpy as np\n",
    "import matplotlib.pyplot as plt\n",
    "\n",
    "np.random.seed(20180823)\n",
    "tf.set_random_seed(20180823)"
   ]
  },
  {
   "cell_type": "code",
   "execution_count": 98,
   "metadata": {},
   "outputs": [],
   "source": [
    "num_samples = SAMPLE_NUMS * 6\n",
    "num_units1 = 256\n",
    "num_units2 = 256\n",
    "num_classes = 4\n",
    "\n",
    "x = tf.placeholder(tf.float32, [None, num_samples])\n",
    "\n",
    "w1 = tf.Variable(tf.truncated_normal([num_samples, num_units1]))\n",
    "b1 = tf.Variable(tf.zeros([num_units1]))\n",
    "y1 = tf.matmul(x, w1) + b1\n",
    "hidden1 = tf.nn.relu(y1)\n",
    "\n",
    "w2 = tf.Variable(tf.truncated_normal([num_units1, num_units2]))\n",
    "b2 = tf.Variable(tf.zeros([num_units2]))\n",
    "y2 = tf.matmul(hidden1, w2) + b2\n",
    "hidden2 = tf.nn.tanh(y2)\n",
    "\n",
    "w0 = tf.Variable(tf.zeros([num_units2, num_classes]))\n",
    "b0 = tf.Variable(tf.zeros([num_classes]))\n",
    "p = tf.nn.softmax(tf.matmul(hidden2, w0) + b0)"
   ]
  },
  {
   "cell_type": "code",
   "execution_count": 99,
   "metadata": {},
   "outputs": [],
   "source": [
    "t = tf.placeholder(tf.float32, [None, num_classes])\n",
    "loss = -tf.reduce_sum(t * tf.log(p))\n",
    "train_step = tf.train.AdamOptimizer(0.0005).minimize(loss)\n",
    "correct_prediction = tf.equal(tf.argmax(p, 1), tf.argmax(t, 1))\n",
    "accuracy = tf.reduce_mean(tf.cast(correct_prediction, tf.float32))"
   ]
  },
  {
   "cell_type": "code",
   "execution_count": 100,
   "metadata": {},
   "outputs": [],
   "source": [
    "sess = tf.Session()\n",
    "sess.run(tf.global_variables_initializer())"
   ]
  },
  {
   "cell_type": "code",
   "execution_count": 101,
   "metadata": {
    "scrolled": false
   },
   "outputs": [
    {
     "name": "stdout",
     "output_type": "stream",
     "text": [
      "Step: 100, Loss: 11.323387145996094, Accuracy: 0.90625\n",
      "Step: 200, Loss: 9.49685001373291, Accuracy: 0.9375\n",
      "Step: 300, Loss: 8.7363862991333, Accuracy: 0.9375\n",
      "Step: 400, Loss: 8.169761657714844, Accuracy: 0.9375\n",
      "Step: 500, Loss: 7.905895709991455, Accuracy: 0.9375\n",
      "Step: 600, Loss: 7.712455749511719, Accuracy: 0.9375\n",
      "Step: 700, Loss: 7.554086685180664, Accuracy: 0.9375\n",
      "Step: 800, Loss: 7.429012298583984, Accuracy: 0.9375\n",
      "Step: 900, Loss: 7.327851295471191, Accuracy: 0.9375\n",
      "Step: 1000, Loss: 7.244356155395508, Accuracy: 0.9375\n",
      "Step: 1100, Loss: 7.174267292022705, Accuracy: 0.9375\n",
      "Step: 1200, Loss: 7.1146111488342285, Accuracy: 0.9375\n",
      "Step: 1300, Loss: 7.063236236572266, Accuracy: 0.9375\n",
      "Step: 1400, Loss: 7.018558025360107, Accuracy: 0.9375\n",
      "Step: 1500, Loss: 6.979382514953613, Accuracy: 0.9375\n",
      "Step: 1600, Loss: 6.944777011871338, Accuracy: 0.9375\n",
      "Step: 1700, Loss: 6.9140238761901855, Accuracy: 0.9375\n",
      "Step: 1800, Loss: 6.886548042297363, Accuracy: 0.9375\n",
      "Step: 1900, Loss: 6.861881256103516, Accuracy: 0.9375\n",
      "Step: 2000, Loss: 6.839658737182617, Accuracy: 0.9375\n"
     ]
    }
   ],
   "source": [
    "i = 0\n",
    "for _ in range(2000):\n",
    "    i += 1\n",
    "    sess.run(train_step, feed_dict={x:train_x, t:train_t})\n",
    "    if i % 100 == 0:\n",
    "        loss_val, acc_val, h1, h2, y1_, y2_ = sess.run([loss, accuracy, hidden1, hidden2, y1, y2], feed_dict={x:test_x, t:test_t})\n",
    "        print('Step: {}, Loss: {}, Accuracy: {}'.format(i, loss_val, acc_val))\n",
    "#        for h in h1:\n",
    "#            print([int(z*100) for z in h])\n",
    "#        for y in y1_:\n",
    "#            print([z for z in y])\n",
    "#        for h in h2:\n",
    "#            print([int(z*100) for z in h])"
   ]
  },
  {
   "cell_type": "code",
   "execution_count": 102,
   "metadata": {},
   "outputs": [
    {
     "data": {
      "text/plain": [
       "array([[44, 53,  1,  0],\n",
       "       [ 2, 96,  0,  0],\n",
       "       [ 0,  0, 99,  0],\n",
       "       [ 0,  0,  0, 99],\n",
       "       [ 0,  0, 99,  0],\n",
       "       [ 0,  0, 99,  0],\n",
       "       [ 0,  0,  0, 99],\n",
       "       [ 1, 75, 21,  2],\n",
       "       [ 0,  0,  0, 99],\n",
       "       [ 0,  0,  0, 99]])"
      ]
     },
     "execution_count": 102,
     "metadata": {},
     "output_type": "execute_result"
    }
   ],
   "source": [
    "p_test = sess.run(p, feed_dict={x:test_x})\n",
    "(p_test*100).astype(int)[:10]"
   ]
  },
  {
   "cell_type": "code",
   "execution_count": 103,
   "metadata": {},
   "outputs": [
    {
     "data": {
      "text/plain": [
       "[[0, 1, 0, 0],\n",
       " [0, 1, 0, 0],\n",
       " [0, 0, 1, 0],\n",
       " [0, 0, 0, 1],\n",
       " [0, 0, 1, 0],\n",
       " [0, 0, 1, 0],\n",
       " [0, 0, 0, 1],\n",
       " [0, 1, 0, 0],\n",
       " [0, 0, 0, 1],\n",
       " [0, 0, 0, 1]]"
      ]
     },
     "execution_count": 103,
     "metadata": {},
     "output_type": "execute_result"
    }
   ],
   "source": [
    "test_t[:10]"
   ]
  },
  {
   "cell_type": "code",
   "execution_count": 104,
   "metadata": {},
   "outputs": [],
   "source": [
    "sess.close()"
   ]
  },
  {
   "cell_type": "code",
   "execution_count": null,
   "metadata": {},
   "outputs": [],
   "source": []
  }
 ],
 "metadata": {
  "kernelspec": {
   "display_name": "Python 3",
   "language": "python",
   "name": "python3"
  },
  "language_info": {
   "codemirror_mode": {
    "name": "ipython",
    "version": 3
   },
   "file_extension": ".py",
   "mimetype": "text/x-python",
   "name": "python",
   "nbconvert_exporter": "python",
   "pygments_lexer": "ipython3",
   "version": "3.6.4"
  }
 },
 "nbformat": 4,
 "nbformat_minor": 2
}
